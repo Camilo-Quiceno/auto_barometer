{
 "cells": [
  {
   "cell_type": "markdown",
   "metadata": {},
   "source": [
    "# Import "
   ]
  },
  {
   "cell_type": "code",
   "execution_count": 67,
   "metadata": {},
   "outputs": [],
   "source": [
    "import datetime\n",
    "from selenium import webdriver\n",
    "from selenium.webdriver.common.by import By\n",
    "from webdriver_manager.chrome import ChromeDriverManager"
   ]
  },
  {
   "cell_type": "markdown",
   "metadata": {},
   "source": [
    "# Global Variables"
   ]
  },
  {
   "cell_type": "code",
   "execution_count": 56,
   "metadata": {},
   "outputs": [],
   "source": [
    "WEBSITE = \"https://m3s.materialise.net\"\n",
    "NUMBER_PAGES = '//*[@id=\"maincontent\"]/ng-component/div/div[2]/div[2]/div[2]/form/div[2]/pagination/div/div'\n",
    "NUMBER_CASES = '//*[@id=\"maincontent\"]/ng-component/div/div[2]/div[2]/form/span'\n",
    "ROWS = '//*[@id=\"maincontent\"]/ng-component/div/div[2]/div[2]/div[1]/div/table/tbody/tr'"
   ]
  },
  {
   "cell_type": "code",
   "execution_count": 7,
   "metadata": {},
   "outputs": [
    {
     "name": "stderr",
     "output_type": "stream",
     "text": [
      "c:\\Users\\cquiceno.MATONE\\Documents\\Software\\Barometer\\venv\\lib\\site-packages\\ipykernel_launcher.py:1: DeprecationWarning: executable_path has been deprecated, please pass in a Service object\n",
      "  \"\"\"Entry point for launching an IPython kernel.\n"
     ]
    }
   ],
   "source": [
    "driver = webdriver.Chrome(ChromeDriverManager().install())\n",
    "driver.get(WEBSITE)"
   ]
  },
  {
   "cell_type": "code",
   "execution_count": 57,
   "metadata": {},
   "outputs": [],
   "source": [
    "number_pages =  int(driver.find_element(By.XPATH, NUMBER_PAGES).text.split()[-1])\n",
    "number_cases = int(driver.find_element(By.XPATH, NUMBER_CASES).text.split()[-2])\n",
    "number_rows = len(driver.find_elements(By.XPATH, ROWS))\n"
   ]
  },
  {
   "cell_type": "code",
   "execution_count": 102,
   "metadata": {},
   "outputs": [
    {
     "data": {
      "text/plain": [
       "'Plastic Design'"
      ]
     },
     "execution_count": 102,
     "metadata": {},
     "output_type": "execute_result"
    }
   ],
   "source": [
    "CASO_PRUEBA = '//*[@id=\"maincontent\"]/ng-component/div/div[2]/div[2]/div[1]/div/table/tbody/tr[5]'\n",
    "color_case = driver.find_element(By.XPATH, f'{CASO_PRUEBA}/td[4]').get_attribute(\"class\")\n",
    "color_step = driver.find_element(By.XPATH, f'{CASO_PRUEBA}/td[4]/div/div/div').get_attribute(\"class\").split()[-1]\n",
    "case_date = driver.find_element(By.XPATH, f'{CASO_PRUEBA}//td[3]/div').text.split()[-2]\n",
    "case_step = driver.find_element(By.XPATH, f'{CASO_PRUEBA}/td[4]/div/div/div/span').text\n",
    "case_step\n",
    "\n"
   ]
  },
  {
   "cell_type": "code",
   "execution_count": 81,
   "metadata": {},
   "outputs": [],
   "source": [
    "date = datetime.datetime.now()\n",
    "today = f'{date.day}.{date.strftime(\"%m\")}.{date.year}'\n",
    "tomorrow = f'{date.day+1}.{date.strftime(\"%m\")}.{date.year}'\n"
   ]
  },
  {
   "cell_type": "code",
   "execution_count": 100,
   "metadata": {},
   "outputs": [],
   "source": [
    "cases_today = 0\n",
    "cases_tomorrow = 0\n",
    "cases_later = 0\n",
    "cases_purples = 0\n",
    "cases_technical_qc = 0\n",
    "\n",
    "for i in range(number_rows):\n",
    "    case = f'//*[@id=\"maincontent\"]/ng-component/div/div[2]/div[2]/div[1]/div/table/tbody/tr[{i+1}]'\n",
    "    color_case = driver.find_element(By.XPATH, f'{case}/td[4]').get_attribute(\"class\")\n",
    "    color_step = driver.find_element(By.XPATH, f'{case}/td[4]/div/div/div').get_attribute(\"class\").split()[-1]\n",
    "    case_date = driver.find_element(By.XPATH, f'{case}//td[3]/div').text.split()[-2]\n",
    "    case_step = driver.find_element(By.XPATH, f'{case}/td[4]/div/div/div/span').text\n",
    "\n",
    "    if case_date == today:\n",
    "        cases_today = cases_today + 1\n",
    "    elif case_date == tomorrow:\n",
    "        cases_tomorrow = cases_tomorrow + 1\n",
    "    else:\n",
    "        cases_later = cases_later + 1\n",
    "\n",
    "    if color_case == 'case-missed':\n",
    "        cases_purples = cases_purples + 1\n",
    "    \n",
    "    if case_step == 'Plastic Design Technical QC':\n",
    "        cases_technical_qc = cases_technical_qc + 1\n",
    "\n",
    "\n",
    "\n"
   ]
  },
  {
   "cell_type": "code",
   "execution_count": 101,
   "metadata": {},
   "outputs": [
    {
     "data": {
      "text/plain": [
       "11"
      ]
     },
     "execution_count": 101,
     "metadata": {},
     "output_type": "execute_result"
    }
   ],
   "source": [
    "cases_technical_qc"
   ]
  }
 ],
 "metadata": {
  "kernelspec": {
   "display_name": "Python 3.7.9 ('venv')",
   "language": "python",
   "name": "python3"
  },
  "language_info": {
   "codemirror_mode": {
    "name": "ipython",
    "version": 3
   },
   "file_extension": ".py",
   "mimetype": "text/x-python",
   "name": "python",
   "nbconvert_exporter": "python",
   "pygments_lexer": "ipython3",
   "version": "3.7.9"
  },
  "orig_nbformat": 4,
  "vscode": {
   "interpreter": {
    "hash": "fcf5c45a1fc5df6b70a6c19d70c4a09ceb629ee57534b4adf0a44517c2bc43d3"
   }
  }
 },
 "nbformat": 4,
 "nbformat_minor": 2
}
