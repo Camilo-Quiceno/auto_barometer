{
 "cells": [
  {
   "cell_type": "markdown",
   "metadata": {},
   "source": [
    "# Import "
   ]
  },
  {
   "cell_type": "code",
   "execution_count": 6,
   "metadata": {},
   "outputs": [],
   "source": [
    "import datetime\n",
    "from selenium import webdriver\n",
    "from selenium.webdriver.common.by import By\n",
    "from webdriver_manager.chrome import ChromeDriverManager\n",
    "import time"
   ]
  },
  {
   "cell_type": "markdown",
   "metadata": {},
   "source": [
    "# Global Variables"
   ]
  },
  {
   "cell_type": "code",
   "execution_count": 8,
   "metadata": {},
   "outputs": [],
   "source": [
    "WEBSITE = \"https://m3s.materialise.net\"\n",
    "NUMBER_PAGES = '//*[@id=\"maincontent\"]/ng-component/div/div[2]/div[2]/div[2]/form/div[2]/pagination/div/div'\n",
    "NUMBER_CASES = '//*[@id=\"maincontent\"]/ng-component/div/div[2]/div[2]/form/span'\n",
    "ROWS = '//*[@id=\"maincontent\"]/ng-component/div/div[2]/div[2]/div[1]/div/table/tbody/tr'"
   ]
  },
  {
   "cell_type": "code",
   "execution_count": 3,
   "metadata": {},
   "outputs": [
    {
     "name": "stderr",
     "output_type": "stream",
     "text": [
      "[WDM] - Downloading: 100%|██████████| 6.68M/6.68M [00:00<00:00, 15.6MB/s]\n",
      "c:\\Users\\cquiceno.MATONE\\Documents\\Software\\Barometer\\venv\\lib\\site-packages\\ipykernel_launcher.py:1: DeprecationWarning: executable_path has been deprecated, please pass in a Service object\n",
      "  \"\"\"Entry point for launching an IPython kernel.\n"
     ]
    }
   ],
   "source": [
    "driver = webdriver.Chrome(ChromeDriverManager().install())\n",
    "driver.get(WEBSITE)"
   ]
  },
  {
   "cell_type": "code",
   "execution_count": 4,
   "metadata": {},
   "outputs": [],
   "source": [
    "date = datetime.datetime.now()\n",
    "today = f'{date.day}.{date.strftime(\"%m\")}.{date.year}'\n",
    "tomorrow = f'{date.day+1}.{date.strftime(\"%m\")}.{date.year}'\n"
   ]
  },
  {
   "cell_type": "markdown",
   "metadata": {},
   "source": [
    "## Plastic Filter"
   ]
  },
  {
   "cell_type": "code",
   "execution_count": 15,
   "metadata": {},
   "outputs": [
    {
     "name": "stdout",
     "output_type": "stream",
     "text": [
      "Plastic Report:\n",
      "Plastic Design/QC:77 cases\n",
      "3 cases for today\n",
      "23 cases for today\n"
     ]
    }
   ],
   "source": [
    "number_cases = int(driver.find_element(By.XPATH, NUMBER_CASES).text.split()[-2])\n",
    "number_pages =  int(driver.find_element(By.XPATH, NUMBER_PAGES).text.split()[-1])\n",
    "cases_today = 0\n",
    "cases_tomorrow = 0\n",
    "\n",
    "for j in range(number_pages):\n",
    "\n",
    "    number_rows = len(driver.find_elements(By.XPATH, ROWS))\n",
    "\n",
    "    for i in range(number_rows):\n",
    "\n",
    "        case = f'//*[@id=\"maincontent\"]/ng-component/div/div[2]/div[2]/div[1]/div/table/tbody/tr[{i+1}]'\n",
    "        case_date = driver.find_element(By.XPATH, f'{case}//td[3]/div').text.split()[-2]\n",
    "\n",
    "        if case_date == today:\n",
    "            cases_today = cases_today + 1\n",
    "        elif case_date == tomorrow:\n",
    "            cases_tomorrow = cases_tomorrow + 1\n",
    "    try:           \n",
    "        driver.find_element(By.XPATH, f'//*[@id=\"maincontent\"]/ng-component/div/div[2]/div[2]/div[2]/form/div[2]/pagination/div/ul/li[{j+4}]/a').click()\n",
    "        time.sleep(30)\n",
    "        \n",
    "    except: \n",
    "        pass\n",
    "\n",
    "print(\"Plastic Report:\")\n",
    "print(f\"Plastic Design/QC:{number_cases} cases\")\n",
    "print(f'{cases_today} cases for today')\n",
    "print(f'{cases_tomorrow} cases for today')\n"
   ]
  },
  {
   "cell_type": "markdown",
   "metadata": {},
   "source": [
    "## Preasa Filter"
   ]
  },
  {
   "cell_type": "code",
   "execution_count": 17,
   "metadata": {},
   "outputs": [
    {
     "name": "stdout",
     "output_type": "stream",
     "text": [
      "PreAsa Report:\n",
      "Segmentation/SegmentationQC/Preplanning/Analysis:30 cases\n",
      "10 cases for today\n",
      "20 cases for today\n",
      "Images QC 0 cases\n",
      "Segmentation 2 cases\n",
      "Segmentation QC 23 cases\n",
      "Preplanning 0 cases\n",
      "Analysis 3 cases\n"
     ]
    }
   ],
   "source": [
    "number_cases = int(driver.find_element(By.XPATH, NUMBER_CASES).text.split()[-2])\n",
    "number_pages =  int(driver.find_element(By.XPATH, NUMBER_PAGES).text.split()[-1])\n",
    "\n",
    "number_image_qcs = 0\n",
    "number_segmentation = 0\n",
    "number_segmentation_qcs = 0\n",
    "number_preplanning = 0\n",
    "number_analysis = 0\n",
    "cases_today = 0\n",
    "cases_tomorrow = 0\n",
    "\n",
    "for j in range(number_pages):\n",
    "\n",
    "    number_rows = len(driver.find_elements(By.XPATH, ROWS))\n",
    "\n",
    "    for i in range(number_rows):\n",
    "        case = f'//*[@id=\"maincontent\"]/ng-component/div/div[2]/div[2]/div[1]/div/table/tbody/tr[{i+1}]'\n",
    "        case_date = driver.find_element(By.XPATH, f'{case}//td[3]/div').text.split()[-2]\n",
    "        case_step = driver.find_element(By.XPATH, f'{case}/td[6]/div/div/div/span').text\n",
    "\n",
    "        if case_date == today:\n",
    "            cases_today += 1\n",
    "        elif case_date == tomorrow:\n",
    "            cases_tomorrow += 1\n",
    "        \n",
    "        if case_step == 'Images QC':\n",
    "            number_image_qcs += 1\n",
    "        elif case_step == 'Segmentation':\n",
    "            number_segmentation += 1\n",
    "        elif case_step == 'Segmentation QC':\n",
    "            number_segmentation_qcs += 1\n",
    "        elif case_step == 'Pre-Planning':\n",
    "            number_preplanning += 1\n",
    "        elif case_step == 'Analysis':\n",
    "            number_analysis += 1\n",
    "        \n",
    "    try:           \n",
    "        driver.find_element(By.XPATH, f'//*[@id=\"maincontent\"]/ng-component/div/div[2]/div[2]/div[2]/form/div[2]/pagination/div/ul/li[{j+4}]/a').click()\n",
    "        time.sleep(30)\n",
    "        \n",
    "    except: \n",
    "        pass\n",
    "\n",
    "print(\"PreAsa Report:\")\n",
    "print(f\"Segmentation/SegmentationQC/Preplanning/Analysis:{number_cases} cases\")\n",
    "print(f'{cases_today} cases for today')\n",
    "print(f'{cases_tomorrow} cases for today')\n",
    "print(f'Images QC {number_image_qcs} cases')\n",
    "print(f'Segmentation {number_segmentation} cases')\n",
    "print(f'Segmentation QC {number_segmentation_qcs} cases')\n",
    "print(f'Preplanning {number_preplanning} cases')\n",
    "print(f'Analysis {number_analysis} cases')\n"
   ]
  },
  {
   "cell_type": "markdown",
   "metadata": {},
   "source": [
    "## Metal Filter"
   ]
  },
  {
   "cell_type": "code",
   "execution_count": 22,
   "metadata": {},
   "outputs": [
    {
     "ename": "ElementClickInterceptedException",
     "evalue": "Message: element click intercepted: Element <a _ngcontent-cum-c78=\"\" role=\"button\" title=\"Next page\">...</a> is not clickable at point (1714, 599). Other element would receive the click: <ul _ngcontent-cum-c78=\"\" class=\"pagination\">...</ul>\n  (Session info: chrome=105.0.5195.127)\nStacktrace:\nBacktrace:\n\tOrdinal0 [0x0034DF13+2219795]\n\tOrdinal0 [0x002E2841+1779777]\n\tOrdinal0 [0x001F423D+803389]\n\tOrdinal0 [0x002299D4+1022420]\n\tOrdinal0 [0x002278C4+1013956]\n\tOrdinal0 [0x002254AB+1004715]\n\tOrdinal0 [0x00224117+999703]\n\tOrdinal0 [0x00219B76+957302]\n\tOrdinal0 [0x0023E7FC+1107964]\n\tOrdinal0 [0x002194B4+955572]\n\tOrdinal0 [0x0023EA14+1108500]\n\tOrdinal0 [0x0024F192+1175954]\n\tOrdinal0 [0x0023E616+1107478]\n\tOrdinal0 [0x00217F89+950153]\n\tOrdinal0 [0x00218F56+954198]\n\tGetHandleVerifier [0x00642CB2+3040210]\n\tGetHandleVerifier [0x00632BB4+2974420]\n\tGetHandleVerifier [0x003E6A0A+565546]\n\tGetHandleVerifier [0x003E5680+560544]\n\tOrdinal0 [0x002E9A5C+1808988]\n\tOrdinal0 [0x002EE3A8+1827752]\n\tOrdinal0 [0x002EE495+1827989]\n\tOrdinal0 [0x002F80A4+1867940]\n\tBaseThreadInitThunk [0x7580FA29+25]\n\tRtlGetAppContainerNamedObjectPath [0x770F7A9E+286]\n\tRtlGetAppContainerNamedObjectPath [0x770F7A6E+238]\n",
     "output_type": "error",
     "traceback": [
      "\u001b[1;31m---------------------------------------------------------------------------\u001b[0m",
      "\u001b[1;31mElementClickInterceptedException\u001b[0m          Traceback (most recent call last)",
      "\u001b[1;32m~\\AppData\\Local\\Temp\\ipykernel_20336\\3002719534.py\u001b[0m in \u001b[0;36m<module>\u001b[1;34m\u001b[0m\n\u001b[0;32m     39\u001b[0m \u001b[1;33m\u001b[0m\u001b[0m\n\u001b[0;32m     40\u001b[0m \u001b[1;33m\u001b[0m\u001b[0m\n\u001b[1;32m---> 41\u001b[1;33m     \u001b[0mdriver\u001b[0m\u001b[1;33m.\u001b[0m\u001b[0mfind_element\u001b[0m\u001b[1;33m(\u001b[0m\u001b[0mBy\u001b[0m\u001b[1;33m.\u001b[0m\u001b[0mXPATH\u001b[0m\u001b[1;33m,\u001b[0m \u001b[1;34mf'//*[@id=\"maincontent\"]/ng-component/div/div[2]/div[2]/div[2]/form/div[2]/pagination/div/ul/li[{j+4}]/a'\u001b[0m\u001b[1;33m)\u001b[0m\u001b[1;33m.\u001b[0m\u001b[0mclick\u001b[0m\u001b[1;33m(\u001b[0m\u001b[1;33m)\u001b[0m\u001b[1;33m\u001b[0m\u001b[1;33m\u001b[0m\u001b[0m\n\u001b[0m\u001b[0;32m     42\u001b[0m     \u001b[0mtime\u001b[0m\u001b[1;33m.\u001b[0m\u001b[0msleep\u001b[0m\u001b[1;33m(\u001b[0m\u001b[1;36m30\u001b[0m\u001b[1;33m)\u001b[0m\u001b[1;33m\u001b[0m\u001b[1;33m\u001b[0m\u001b[0m\n\u001b[0;32m     43\u001b[0m \u001b[1;33m\u001b[0m\u001b[0m\n",
      "\u001b[1;32mc:\\Users\\cquiceno.MATONE\\Documents\\Software\\Barometer\\venv\\lib\\site-packages\\selenium\\webdriver\\remote\\webelement.py\u001b[0m in \u001b[0;36mclick\u001b[1;34m(self)\u001b[0m\n\u001b[0;32m     86\u001b[0m     \u001b[1;32mdef\u001b[0m \u001b[0mclick\u001b[0m\u001b[1;33m(\u001b[0m\u001b[0mself\u001b[0m\u001b[1;33m)\u001b[0m \u001b[1;33m->\u001b[0m \u001b[1;32mNone\u001b[0m\u001b[1;33m:\u001b[0m\u001b[1;33m\u001b[0m\u001b[1;33m\u001b[0m\u001b[0m\n\u001b[0;32m     87\u001b[0m         \u001b[1;34m\"\"\"Clicks the element.\"\"\"\u001b[0m\u001b[1;33m\u001b[0m\u001b[1;33m\u001b[0m\u001b[0m\n\u001b[1;32m---> 88\u001b[1;33m         \u001b[0mself\u001b[0m\u001b[1;33m.\u001b[0m\u001b[0m_execute\u001b[0m\u001b[1;33m(\u001b[0m\u001b[0mCommand\u001b[0m\u001b[1;33m.\u001b[0m\u001b[0mCLICK_ELEMENT\u001b[0m\u001b[1;33m)\u001b[0m\u001b[1;33m\u001b[0m\u001b[1;33m\u001b[0m\u001b[0m\n\u001b[0m\u001b[0;32m     89\u001b[0m \u001b[1;33m\u001b[0m\u001b[0m\n\u001b[0;32m     90\u001b[0m     \u001b[1;32mdef\u001b[0m \u001b[0msubmit\u001b[0m\u001b[1;33m(\u001b[0m\u001b[0mself\u001b[0m\u001b[1;33m)\u001b[0m\u001b[1;33m:\u001b[0m\u001b[1;33m\u001b[0m\u001b[1;33m\u001b[0m\u001b[0m\n",
      "\u001b[1;32mc:\\Users\\cquiceno.MATONE\\Documents\\Software\\Barometer\\venv\\lib\\site-packages\\selenium\\webdriver\\remote\\webelement.py\u001b[0m in \u001b[0;36m_execute\u001b[1;34m(self, command, params)\u001b[0m\n\u001b[0;32m    394\u001b[0m             \u001b[0mparams\u001b[0m \u001b[1;33m=\u001b[0m \u001b[1;33m{\u001b[0m\u001b[1;33m}\u001b[0m\u001b[1;33m\u001b[0m\u001b[1;33m\u001b[0m\u001b[0m\n\u001b[0;32m    395\u001b[0m         \u001b[0mparams\u001b[0m\u001b[1;33m[\u001b[0m\u001b[1;34m'id'\u001b[0m\u001b[1;33m]\u001b[0m \u001b[1;33m=\u001b[0m \u001b[0mself\u001b[0m\u001b[1;33m.\u001b[0m\u001b[0m_id\u001b[0m\u001b[1;33m\u001b[0m\u001b[1;33m\u001b[0m\u001b[0m\n\u001b[1;32m--> 396\u001b[1;33m         \u001b[1;32mreturn\u001b[0m \u001b[0mself\u001b[0m\u001b[1;33m.\u001b[0m\u001b[0m_parent\u001b[0m\u001b[1;33m.\u001b[0m\u001b[0mexecute\u001b[0m\u001b[1;33m(\u001b[0m\u001b[0mcommand\u001b[0m\u001b[1;33m,\u001b[0m \u001b[0mparams\u001b[0m\u001b[1;33m)\u001b[0m\u001b[1;33m\u001b[0m\u001b[1;33m\u001b[0m\u001b[0m\n\u001b[0m\u001b[0;32m    397\u001b[0m \u001b[1;33m\u001b[0m\u001b[0m\n\u001b[0;32m    398\u001b[0m     \u001b[1;32mdef\u001b[0m \u001b[0mfind_element\u001b[0m\u001b[1;33m(\u001b[0m\u001b[0mself\u001b[0m\u001b[1;33m,\u001b[0m \u001b[0mby\u001b[0m\u001b[1;33m=\u001b[0m\u001b[0mBy\u001b[0m\u001b[1;33m.\u001b[0m\u001b[0mID\u001b[0m\u001b[1;33m,\u001b[0m \u001b[0mvalue\u001b[0m\u001b[1;33m=\u001b[0m\u001b[1;32mNone\u001b[0m\u001b[1;33m)\u001b[0m \u001b[1;33m->\u001b[0m \u001b[0mWebElement\u001b[0m\u001b[1;33m:\u001b[0m\u001b[1;33m\u001b[0m\u001b[1;33m\u001b[0m\u001b[0m\n",
      "\u001b[1;32mc:\\Users\\cquiceno.MATONE\\Documents\\Software\\Barometer\\venv\\lib\\site-packages\\selenium\\webdriver\\remote\\webdriver.py\u001b[0m in \u001b[0;36mexecute\u001b[1;34m(self, driver_command, params)\u001b[0m\n\u001b[0;32m    426\u001b[0m         \u001b[0mresponse\u001b[0m \u001b[1;33m=\u001b[0m \u001b[0mself\u001b[0m\u001b[1;33m.\u001b[0m\u001b[0mcommand_executor\u001b[0m\u001b[1;33m.\u001b[0m\u001b[0mexecute\u001b[0m\u001b[1;33m(\u001b[0m\u001b[0mdriver_command\u001b[0m\u001b[1;33m,\u001b[0m \u001b[0mparams\u001b[0m\u001b[1;33m)\u001b[0m\u001b[1;33m\u001b[0m\u001b[1;33m\u001b[0m\u001b[0m\n\u001b[0;32m    427\u001b[0m         \u001b[1;32mif\u001b[0m \u001b[0mresponse\u001b[0m\u001b[1;33m:\u001b[0m\u001b[1;33m\u001b[0m\u001b[1;33m\u001b[0m\u001b[0m\n\u001b[1;32m--> 428\u001b[1;33m             \u001b[0mself\u001b[0m\u001b[1;33m.\u001b[0m\u001b[0merror_handler\u001b[0m\u001b[1;33m.\u001b[0m\u001b[0mcheck_response\u001b[0m\u001b[1;33m(\u001b[0m\u001b[0mresponse\u001b[0m\u001b[1;33m)\u001b[0m\u001b[1;33m\u001b[0m\u001b[1;33m\u001b[0m\u001b[0m\n\u001b[0m\u001b[0;32m    429\u001b[0m             response['value'] = self._unwrap_value(\n\u001b[0;32m    430\u001b[0m                 response.get('value', None))\n",
      "\u001b[1;32mc:\\Users\\cquiceno.MATONE\\Documents\\Software\\Barometer\\venv\\lib\\site-packages\\selenium\\webdriver\\remote\\errorhandler.py\u001b[0m in \u001b[0;36mcheck_response\u001b[1;34m(self, response)\u001b[0m\n\u001b[0;32m    241\u001b[0m                 \u001b[0malert_text\u001b[0m \u001b[1;33m=\u001b[0m \u001b[0mvalue\u001b[0m\u001b[1;33m[\u001b[0m\u001b[1;34m'alert'\u001b[0m\u001b[1;33m]\u001b[0m\u001b[1;33m.\u001b[0m\u001b[0mget\u001b[0m\u001b[1;33m(\u001b[0m\u001b[1;34m'text'\u001b[0m\u001b[1;33m)\u001b[0m\u001b[1;33m\u001b[0m\u001b[1;33m\u001b[0m\u001b[0m\n\u001b[0;32m    242\u001b[0m             \u001b[1;32mraise\u001b[0m \u001b[0mexception_class\u001b[0m\u001b[1;33m(\u001b[0m\u001b[0mmessage\u001b[0m\u001b[1;33m,\u001b[0m \u001b[0mscreen\u001b[0m\u001b[1;33m,\u001b[0m \u001b[0mstacktrace\u001b[0m\u001b[1;33m,\u001b[0m \u001b[0malert_text\u001b[0m\u001b[1;33m)\u001b[0m  \u001b[1;31m# type: ignore[call-arg]  # mypy is not smart enough here\u001b[0m\u001b[1;33m\u001b[0m\u001b[1;33m\u001b[0m\u001b[0m\n\u001b[1;32m--> 243\u001b[1;33m         \u001b[1;32mraise\u001b[0m \u001b[0mexception_class\u001b[0m\u001b[1;33m(\u001b[0m\u001b[0mmessage\u001b[0m\u001b[1;33m,\u001b[0m \u001b[0mscreen\u001b[0m\u001b[1;33m,\u001b[0m \u001b[0mstacktrace\u001b[0m\u001b[1;33m)\u001b[0m\u001b[1;33m\u001b[0m\u001b[1;33m\u001b[0m\u001b[0m\n\u001b[0m",
      "\u001b[1;31mElementClickInterceptedException\u001b[0m: Message: element click intercepted: Element <a _ngcontent-cum-c78=\"\" role=\"button\" title=\"Next page\">...</a> is not clickable at point (1714, 599). Other element would receive the click: <ul _ngcontent-cum-c78=\"\" class=\"pagination\">...</ul>\n  (Session info: chrome=105.0.5195.127)\nStacktrace:\nBacktrace:\n\tOrdinal0 [0x0034DF13+2219795]\n\tOrdinal0 [0x002E2841+1779777]\n\tOrdinal0 [0x001F423D+803389]\n\tOrdinal0 [0x002299D4+1022420]\n\tOrdinal0 [0x002278C4+1013956]\n\tOrdinal0 [0x002254AB+1004715]\n\tOrdinal0 [0x00224117+999703]\n\tOrdinal0 [0x00219B76+957302]\n\tOrdinal0 [0x0023E7FC+1107964]\n\tOrdinal0 [0x002194B4+955572]\n\tOrdinal0 [0x0023EA14+1108500]\n\tOrdinal0 [0x0024F192+1175954]\n\tOrdinal0 [0x0023E616+1107478]\n\tOrdinal0 [0x00217F89+950153]\n\tOrdinal0 [0x00218F56+954198]\n\tGetHandleVerifier [0x00642CB2+3040210]\n\tGetHandleVerifier [0x00632BB4+2974420]\n\tGetHandleVerifier [0x003E6A0A+565546]\n\tGetHandleVerifier [0x003E5680+560544]\n\tOrdinal0 [0x002E9A5C+1808988]\n\tOrdinal0 [0x002EE3A8+1827752]\n\tOrdinal0 [0x002EE495+1827989]\n\tOrdinal0 [0x002F80A4+1867940]\n\tBaseThreadInitThunk [0x7580FA29+25]\n\tRtlGetAppContainerNamedObjectPath [0x770F7A9E+286]\n\tRtlGetAppContainerNamedObjectPath [0x770F7A6E+238]\n"
     ]
    }
   ],
   "source": [
    "number_cases = int(driver.find_element(By.XPATH, NUMBER_CASES).text.split()[-2])\n",
    "number_pages =  int(driver.find_element(By.XPATH, NUMBER_PAGES).text.split()[-1])\n",
    "\n",
    "cases_today = 0\n",
    "cases_tomorrow = 0\n",
    "cases_purples = 0\n",
    "number_engimplan = 0\n",
    "number_surgical_poster = 0\n",
    "number_technical_qc = 0\n",
    "\n",
    "for j in range(number_pages):\n",
    "\n",
    "    number_rows = len(driver.find_elements(By.XPATH, ROWS))\n",
    "    for i in range(number_rows):\n",
    "\n",
    "        case = f'//*[@id=\"maincontent\"]/ng-component/div/div[2]/div[2]/div[1]/div/table/tbody/tr[{i+1}]'\n",
    "        color_case = driver.find_element(By.XPATH, f'{case}/td[4]').get_attribute(\"class\")\n",
    "        case_date = driver.find_element(By.XPATH, f'{case}//td[3]/div').text.split()[-2]\n",
    "        case_step = driver.find_element(By.XPATH, f'{case}/td[6]/div/div/div/span').text\n",
    "        case_brand = driver.find_element(By.XPATH, f'{case}//td[5]/div').text\n",
    "        \n",
    "        if case_date == today:\n",
    "            cases_today = cases_today + 1\n",
    "\n",
    "        elif case_date == tomorrow:\n",
    "            cases_tomorrow = cases_tomorrow + 1\n",
    "\n",
    "        if color_case == 'case-missed':\n",
    "            cases_purples = cases_purples + 1\n",
    "\n",
    "        if case_brand == 'Engimplan':\n",
    "            number_engimplan += 1\n",
    "        \n",
    "        if case_step == 'Surgical Poster':\n",
    "            number_surgical_poster += 1\n",
    "\n",
    "        if case_step == 'Metal Design Technical QC':\n",
    "            number_technical_qc += 1\n",
    "\n",
    "    try:           \n",
    "        driver.find_element(By.XPATH, f'//*[@id=\"maincontent\"]/ng-component/div/div[2]/div[2]/div[2]/form/div[2]/pagination/div/ul/li[{j+4}]/a').click()\n",
    "        time.sleep(30)\n",
    "        \n",
    "    except: \n",
    "        pass\n",
    "\n",
    "print(\"Metal Report:\")\n",
    "print(f\"{number_cases} cases\")\n",
    "print(f'{cases_today} cases for today')\n",
    "print(f'{cases_tomorrow} cases for tomorrow')\n",
    "print(f'{number_engimplan} TMJ/Engimplan case')\n",
    "print(f'{number_surgical_poster} Surgical posters')\n",
    "print(f'{(number_technical_qc*100)/number_cases}% in Tech QC')"
   ]
  }
 ],
 "metadata": {
  "kernelspec": {
   "display_name": "Python 3.7.9 ('venv')",
   "language": "python",
   "name": "python3"
  },
  "language_info": {
   "codemirror_mode": {
    "name": "ipython",
    "version": 3
   },
   "file_extension": ".py",
   "mimetype": "text/x-python",
   "name": "python",
   "nbconvert_exporter": "python",
   "pygments_lexer": "ipython3",
   "version": "3.7.9"
  },
  "orig_nbformat": 4,
  "vscode": {
   "interpreter": {
    "hash": "fcf5c45a1fc5df6b70a6c19d70c4a09ceb629ee57534b4adf0a44517c2bc43d3"
   }
  }
 },
 "nbformat": 4,
 "nbformat_minor": 2
}
